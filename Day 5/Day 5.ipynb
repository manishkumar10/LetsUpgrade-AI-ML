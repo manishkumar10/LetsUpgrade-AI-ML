{
  "nbformat": 4,
  "nbformat_minor": 0,
  "metadata": {
    "colab": {
      "name": "Untitled2.ipynb",
      "provenance": []
    },
    "kernelspec": {
      "name": "python3",
      "display_name": "Python 3"
    }
  },
  "cells": [
    {
      "cell_type": "code",
      "metadata": {
        "id": "XltUDfS-wkdT",
        "colab_type": "code",
        "colab": {
          "base_uri": "https://localhost:8080/",
          "height": 357
        },
        "outputId": "54f0330c-ed23-4106-d3db-edad62d3256c"
      },
      "source": [
        "# 1. Write a Python program to find the first 20 non-even prime natural numbers.\n",
        "\n",
        "start = 3\n",
        "end = 75\n",
        "  \n",
        "for val in range(start, end + 1): \n",
        "    if val > 1: \n",
        "        for n in range(2, val//2 + 2): \n",
        "            if (val % n) == 0: \n",
        "                break\n",
        "            else: \n",
        "                if n == val//2 + 1: \n",
        "                    print(val) \n"
      ],
      "execution_count": 5,
      "outputs": [
        {
          "output_type": "stream",
          "text": [
            "3\n",
            "5\n",
            "7\n",
            "11\n",
            "13\n",
            "17\n",
            "19\n",
            "23\n",
            "29\n",
            "31\n",
            "37\n",
            "41\n",
            "43\n",
            "47\n",
            "53\n",
            "59\n",
            "61\n",
            "67\n",
            "71\n",
            "73\n"
          ],
          "name": "stdout"
        }
      ]
    },
    {
      "cell_type": "code",
      "metadata": {
        "id": "jsoU9ZN_xTyW",
        "colab_type": "code",
        "colab": {
          "base_uri": "https://localhost:8080/",
          "height": 782
        },
        "outputId": "afca24d0-5095-4840-cda9-14f9d97a9f93"
      },
      "source": [
        "# 2. Write a Python program to implement 15 functions of string.\n",
        "\n",
        "def main():\n",
        "    user_string = \"China\"\n",
        "    if user_string.isalnum():\n",
        "        print(user_string, ': The String is alphanumeric.\\n')\n",
        "    user_string = \"1974\"\n",
        "    if user_string.isdigit():\n",
        "        print(user_string, ': The String contains only digits.\\n')\n",
        "    user_string = \"Australia\"\n",
        "    if user_string.isalpha():\n",
        "        print(user_string, ': String contains only alphabetic characters.\\n')\n",
        "    user_string = \"   \"\n",
        "    if user_string.isspace():\n",
        "        print(user_string, ': String contains only whitespace characters.\\n')\n",
        "    user_string = \"JAPAN\"\n",
        "    if user_string.isupper():\n",
        "        print(user_string, ': All letters in the string are uppercase.\\n')\n",
        "    user_string = \"Australia 1974\"\n",
        "    if user_string.islower():\n",
        "        print(user_string, ': All letters in the string are lowercase.\\n')\n",
        "    user_string = \"India 1974\"\n",
        "    toLower = user_string.lower()\n",
        "    print(user_string, ': Convert String in lowercase:', toLower, '\\n')\n",
        "    toUpper = user_string.upper()\n",
        "    print(user_string, ': Convert String in uppercase:', toUpper, '\\n')\n",
        "    user_string = \"   India 1974\"\n",
        "    print('\\nLeft Strip:', user_string.lstrip())\n",
        "    user_string = \"America 1974\"\n",
        "    print('\\nLeft Strip with Character A:', user_string.lstrip('A'))\n",
        "    user_string = \"America 1974     \"\n",
        "    print('\\nRight Strip:', user_string.rstrip('A'))\n",
        "    user_string = \"America\"\n",
        "    print('\\nRight Strip with Character a:', user_string.rstrip('a'))\n",
        "    user_string = \"   America 1974    \"\n",
        "    print('\\nStrip from both side :', user_string.strip())\n",
        "    user_string = \"America Russia Japan China\"\n",
        "    print('\\nStrip with Character A:', user_string.strip('A'))\n",
        "    print('Strip with Character a:', user_string.strip('a'))\n",
        "    print('\\nendswith check whether a string ends with a specified substring')\n",
        "    user_string = \"Columbia\"\n",
        "    print(user_string.endswith('bia'))\n",
        "    print(user_string.endswith('mia'))\n",
        "    print('\\nstartswith check if a string starts with a specified substring')\n",
        "    user_string = \"Columbia\"\n",
        "    print(user_string.startswith('Colum'))\n",
        "    print(user_string.startswith('Rolum'))\n",
        "    print('\\n################## Find Method ##################')\n",
        "    user_string = \"Columbia\"\n",
        "    print(user_string.find('lumbia'))\n",
        "    print(user_string.find('colbia'))\n",
        "    print(user_string.find('bia'))\n",
        "    print(user_string.find('col'))\n",
        "    print(user_string.find('Col'))\n",
        "    print('\\n################## Replace Method ##################')\n",
        "    user_string = \"Hello Columbia\"\n",
        "    old = \"Columbia\"\n",
        "    new = \"Russia\"\n",
        "    print(user_string.replace(old, new))\n",
        " \n",
        "main()"
      ],
      "execution_count": 6,
      "outputs": [
        {
          "output_type": "stream",
          "text": [
            "China : The String is alphanumeric.\n",
            "\n",
            "1974 : The String contains only digits.\n",
            "\n",
            "Australia : String contains only alphabetic characters.\n",
            "\n",
            "    : String contains only whitespace characters.\n",
            "\n",
            "JAPAN : All letters in the string are uppercase.\n",
            "\n",
            "India 1974 : Convert String in lowercase: india 1974 \n",
            "\n",
            "India 1974 : Convert String in uppercase: INDIA 1974 \n",
            "\n",
            "\n",
            "Left Strip: India 1974\n",
            "\n",
            "Left Strip with Character A: merica 1974\n",
            "\n",
            "Right Strip: America 1974     \n",
            "\n",
            "Right Strip with Character a: Americ\n",
            "\n",
            "Strip from both side : America 1974\n",
            "\n",
            "Strip with Character A: merica Russia Japan China\n",
            "Strip with Character a: America Russia Japan Chin\n",
            "\n",
            "endswith check whether a string ends with a specified substring\n",
            "True\n",
            "False\n",
            "\n",
            "startswith check if a string starts with a specified substring\n",
            "True\n",
            "False\n",
            "\n",
            "################## Find Method ##################\n",
            "2\n",
            "-1\n",
            "5\n",
            "-1\n",
            "0\n",
            "\n",
            "################## Replace Method ##################\n",
            "Hello Russia\n"
          ],
          "name": "stdout"
        }
      ]
    },
    {
      "cell_type": "code",
      "metadata": {
        "id": "EDTn1c_XxT7Z",
        "colab_type": "code",
        "colab": {
          "base_uri": "https://localhost:8080/",
          "height": 51
        },
        "outputId": "4549610e-dae3-4496-e52b-fb542e4c8034"
      },
      "source": [
        "# 3. Write a Python program to check if the given string is a Palindrome or Anagram or None of them. Display the message accordingly to the user.\n",
        "\n",
        "num=int(input(\"Enter a number:\"))\n",
        "temp=num\n",
        "rev=0\n",
        "while(num>0):\n",
        "    dig=num%10\n",
        "    rev=rev*10+dig\n",
        "    num=num//10\n",
        "if(temp==rev):\n",
        "    print(\"The number is palindrome!\")\n",
        "else:\n",
        "    print(\"Not a palindrome!\")"
      ],
      "execution_count": 8,
      "outputs": [
        {
          "output_type": "stream",
          "text": [
            "Enter a number:111\n",
            "The number is palindrome!\n"
          ],
          "name": "stdout"
        }
      ]
    },
    {
      "cell_type": "code",
      "metadata": {
        "id": "MAKb_T35xUG-",
        "colab_type": "code",
        "colab": {
          "base_uri": "https://localhost:8080/",
          "height": 68
        },
        "outputId": "e3e8406a-bf41-40b0-b886-f396e619043e"
      },
      "source": [
        "# 4. Write a Python's user defined function that removes all the additional characters from the string and converts it finally to lower case using built-in lower(). eg: If the string is \"Dr. Darshan Ingle @AI-ML Trainer\", then the output be \"drdarshaningleaimltrainer\".\n",
        "\n",
        "bad_chars = [' '] \n",
        "raw_input=input(\"Enter The String : \") \n",
        "print (\"Original String : \" + raw_input) \n",
        "for i in bad_chars : \n",
        "    raw_input = raw_input.replace(i, '') \n",
        "print (\"Resultant list is : \" + str.lower(raw_input)) \n"
      ],
      "execution_count": 22,
      "outputs": [
        {
          "output_type": "stream",
          "text": [
            "Enter The String : Manish Kumar SCJD\n",
            "Original String : Manish Kumar SCJD\n",
            "Resultant list is : manishkumarscjd\n"
          ],
          "name": "stdout"
        }
      ]
    }
  ]
}