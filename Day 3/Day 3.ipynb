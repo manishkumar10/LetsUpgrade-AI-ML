{
  "nbformat": 4,
  "nbformat_minor": 0,
  "metadata": {
    "colab": {
      "name": "Untitled0.ipynb",
      "provenance": []
    },
    "kernelspec": {
      "name": "python3",
      "display_name": "Python 3"
    }
  },
  "cells": [
    {
      "cell_type": "code",
      "metadata": {
        "id": "89ebDxebiwji",
        "colab_type": "code",
        "colab": {
          "base_uri": "https://localhost:8080/",
          "height": 34
        },
        "outputId": "e57f4d11-e034-426d-a25c-32bc64cc93f6"
      },
      "source": [
        "# 1. Write a program to subtract two complex numbers in Python.\n",
        "\n",
        "def subComplex( z1, z2): \n",
        "    return z1-z2 \n",
        "z1 = complex(2, 3) \n",
        "z2 = complex(1, 2) \n",
        "print( \"Subtraction is : \", subComplex(z1, z2)) "
      ],
      "execution_count": 12,
      "outputs": [
        {
          "output_type": "stream",
          "text": [
            "Subtraction is :  (1+1j)\n"
          ],
          "name": "stdout"
        }
      ]
    },
    {
      "cell_type": "code",
      "metadata": {
        "id": "u4SZ_F6Ti1Re",
        "colab_type": "code",
        "colab": {
          "base_uri": "https://localhost:8080/",
          "height": 34
        },
        "outputId": "e7a3582f-5542-45f6-f082-d3efb79361c3"
      },
      "source": [
        "# 2. Write a program to find the fourth root of a number.\n",
        "\n",
        "import math \n",
        "import random \n",
        "def nthRoot(A,N): \n",
        "    xPre = random.randint(1,101) % 10\n",
        "    eps = 0.001\n",
        "    delX = 2147483647\n",
        "    xK=0.0\n",
        "    while (delX > eps): \n",
        "        xK = ((N - 1.0) * xPre +\n",
        "              A/pow(xPre, N-1)) /N \n",
        "        delX = abs(xK - xPre) \n",
        "        xPre = xK;          \n",
        "    return xK \n",
        "N = 4\n",
        "A = 81\n",
        "nthRootValue = nthRoot(A, N) \n",
        "print(\"Nth root is \", nthRootValue) "
      ],
      "execution_count": 13,
      "outputs": [
        {
          "output_type": "stream",
          "text": [
            "Nth root is  3.0000003878820154\n"
          ],
          "name": "stdout"
        }
      ]
    },
    {
      "cell_type": "code",
      "metadata": {
        "id": "xdEg-nOLkQW_",
        "colab_type": "code",
        "colab": {
          "base_uri": "https://localhost:8080/",
          "height": 51
        },
        "outputId": "799a15ea-b1fb-4193-96b5-4a76ff06e9f9"
      },
      "source": [
        "# 3. Write a program to swap two numbers in Python with the help of a temporary variable.\n",
        "\n",
        "x = 5\n",
        "y = 10\n",
        "temp = x\n",
        "x = y\n",
        "y = temp\n",
        "print('The value of x after swapping: {}'.format(x))\n",
        "print('The value of y after swapping: {}'.format(y))"
      ],
      "execution_count": 14,
      "outputs": [
        {
          "output_type": "stream",
          "text": [
            "The value of x after swapping: 10\n",
            "The value of y after swapping: 5\n"
          ],
          "name": "stdout"
        }
      ]
    },
    {
      "cell_type": "code",
      "metadata": {
        "id": "81QwE6x2lBOT",
        "colab_type": "code",
        "colab": {
          "base_uri": "https://localhost:8080/",
          "height": 85
        },
        "outputId": "dc625507-ee64-470d-d3ac-928ac77c8586"
      },
      "source": [
        "# 4. Write a program to swap two numbers in Python without using a temporary variable.\n",
        "\n",
        "x = 5\n",
        "y = 7\n",
        "print (\"Before swapping: \") \n",
        "print(\"Value of x : \", x, \" and y : \", y) \n",
        "x, y = y, x \n",
        "print (\"After swapping: \") \n",
        "print(\"Value of x : \", x, \" and y : \", y) \n"
      ],
      "execution_count": 15,
      "outputs": [
        {
          "output_type": "stream",
          "text": [
            "Before swapping: \n",
            "Value of x :  5  and y :  7\n",
            "After swapping: \n",
            "Value of x :  7  and y :  5\n"
          ],
          "name": "stdout"
        }
      ]
    },
    {
      "cell_type": "code",
      "metadata": {
        "id": "SDx3aCW9laQw",
        "colab_type": "code",
        "colab": {
          "base_uri": "https://localhost:8080/",
          "height": 68
        },
        "outputId": "7b8ebdf6-a36a-468e-f4b3-d92ac7458c59"
      },
      "source": [
        "# 5. Write a program to convert fahrenheit to kelvin and celsius both.\n",
        "\n",
        "fahrenheit = float(input(\"Enter temperature in fahrenheit: \"))\n",
        "celsius = (fahrenheit - 32) * 5/9\n",
        "kelvin = 273.5 + ((fahrenheit - 32.0) * (5.0/9.0)) \n",
        "print('%.2f Fahrenheit is: %0.2f Celsius' %(fahrenheit, celsius))\n",
        "print('%.2f Fahrenheit is: %0.2f Kelvin' %(fahrenheit, kelvin))"
      ],
      "execution_count": 17,
      "outputs": [
        {
          "output_type": "stream",
          "text": [
            "Enter temperature in fahrenheit: 100\n",
            "100.00 Fahrenheit is: 37.78 Celsius\n",
            "100.00 Fahrenheit is: 311.28 Kelvin\n"
          ],
          "name": "stdout"
        }
      ]
    },
    {
      "cell_type": "code",
      "metadata": {
        "id": "yk9IcxpBnGK7",
        "colab_type": "code",
        "colab": {
          "base_uri": "https://localhost:8080/",
          "height": 85
        },
        "outputId": "1698bf76-dd72-4ae2-8edf-5a169dbbf788"
      },
      "source": [
        "# 6. Write a program to demonstrate all the available data types in Python. Hint: Use type() function.\n",
        "a = 5  \n",
        "print(\"The type of a\", type(a))  \n",
        "b = 40.5  \n",
        "print(\"The type of b\", type(b))  \n",
        "c = 1+3j  \n",
        "print(\"The type of c\", type(c))  \n",
        "print(\"c is a complex number\", isinstance(1+3j,complex))  \n"
      ],
      "execution_count": 19,
      "outputs": [
        {
          "output_type": "stream",
          "text": [
            "The type of a <class 'int'>\n",
            "The type of b <class 'float'>\n",
            "The type of c <class 'complex'>\n",
            "c is a complex number True\n"
          ],
          "name": "stdout"
        }
      ]
    },
    {
      "cell_type": "code",
      "metadata": {
        "id": "XX8mjxT_nUMw",
        "colab_type": "code",
        "colab": {}
      },
      "source": [
        "# 7. Create a Markdown cell in jupyter and list the steps discussed in the session by Dr. Darshan Ingle sir to create Github profile and upload Githubs Assignment link.\n",
        "\n",
        "\n"
      ],
      "execution_count": null,
      "outputs": []
    }
  ]
}