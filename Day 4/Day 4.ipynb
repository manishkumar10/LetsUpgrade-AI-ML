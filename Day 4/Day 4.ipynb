{
  "nbformat": 4,
  "nbformat_minor": 0,
  "metadata": {
    "colab": {
      "name": "Untitled1.ipynb",
      "provenance": []
    },
    "kernelspec": {
      "name": "python3",
      "display_name": "Python 3"
    }
  },
  "cells": [
    {
      "cell_type": "code",
      "metadata": {
        "id": "wydMW2M4qR5u",
        "colab_type": "code",
        "colab": {
          "base_uri": "https://localhost:8080/",
          "height": 85
        },
        "outputId": "71245074-ff54-4725-dbe9-66f5dfd9276d"
      },
      "source": [
        "# 1. Research on whether addition, subtraction, multiplication, division, floor division and modulo operations be performed on complex numbers. Based on your study, implement a Python program to demonstrate these operations.\n",
        "\n",
        "print(\"Addition of two complex numbers : \",(4+3j)+(3-7j))\n",
        "print(\"Subtraction of two complex numbers : \",(4+3j)-(3-7j))\n",
        "print(\"Multiplication of two complex numbers : \",(4+3j)*(3-7j))\n",
        "print(\"Division of two complex numbers : \",(4+3j)/(3-7j))"
      ],
      "execution_count": 2,
      "outputs": [
        {
          "output_type": "stream",
          "text": [
            "Addition of two complex numbers :  (7-4j)\n",
            "Subtraction of two complex numbers :  (1+10j)\n",
            "Multiplication of two complex numbers :  (33-19j)\n",
            "Division of two complex numbers :  (-0.15517241379310348+0.6379310344827587j)\n"
          ],
          "name": "stdout"
        }
      ]
    },
    {
      "cell_type": "code",
      "metadata": {
        "id": "m7OHRQqNq3mz",
        "colab_type": "code",
        "colab": {
          "base_uri": "https://localhost:8080/",
          "height": 170
        },
        "outputId": "aa9cfb0b-de3e-4dfe-bf2c-4474d837a181"
      },
      "source": [
        "# 2. Research on range() functions and its parameters. Create a markdown cell and write in your own words what you understand about it. Implement a small program of your choice on the same.\n",
        "\n",
        "# The range() function returns a sequence of numbers, starting from 0 by default, and increments by 1 (by default), and stops before a specified number.\n",
        "# Syntax - range(start, stop, step)\n",
        "# start -\tOptional. An integer number specifying at which position to start. Default is 0\n",
        "# stop\t- Required. An integer number specifying at which position to stop (not included).\n",
        "# step\t- Optional. An integer number specifying the incrementation. Default is 1\n",
        "\n",
        "x = range(3, 20, 2)\n",
        "for n in x:\n",
        "  print(n)\n"
      ],
      "execution_count": 6,
      "outputs": [
        {
          "output_type": "stream",
          "text": [
            "3\n",
            "5\n",
            "7\n",
            "9\n",
            "11\n",
            "13\n",
            "15\n",
            "17\n",
            "19\n"
          ],
          "name": "stdout"
        }
      ]
    },
    {
      "cell_type": "code",
      "metadata": {
        "id": "af8_pqXVrLaS",
        "colab_type": "code",
        "colab": {
          "base_uri": "https://localhost:8080/",
          "height": 68
        },
        "outputId": "78e211b0-a2ee-48d4-fa39-8978d42b1ddf"
      },
      "source": [
        "# 3. Consider two numbers. Perform their subtraction and if the result of subtraction is greater than 25, print their multiplication result else print their division result.\n",
        "\n",
        "a = int(input())\n",
        "b = int(input())\n",
        "subtract = a-b\n",
        "multiply = a*b\n",
        "div = a/b\n",
        "\n",
        "if subtract>25:\n",
        " print(\"Multiplication of two numbers : \",multiply)\n",
        "else:\n",
        " print(\"Division of two numbers : \",div)"
      ],
      "execution_count": 13,
      "outputs": [
        {
          "output_type": "stream",
          "text": [
            "100\n",
            "20\n",
            "Multiplication of two numbers :  2000\n"
          ],
          "name": "stdout"
        }
      ]
    },
    {
      "cell_type": "code",
      "metadata": {
        "id": "911l-zMNrLmC",
        "colab_type": "code",
        "colab": {}
      },
      "source": [
        "# 4. Consider a list of 10 elements of integer values. If the number in the list is divisible by 2, print the result as \"square of that number minus 2\".\n",
        "\n"
      ],
      "execution_count": null,
      "outputs": []
    },
    {
      "cell_type": "code",
      "metadata": {
        "id": "257UMz43rLx1",
        "colab_type": "code",
        "colab": {}
      },
      "source": [
        "# 5. Consider a list of 10 elements. Print all the elements in the list which are greater than 7 when that number is divided 2.\n",
        "\n",
        "\n",
        "\n"
      ],
      "execution_count": null,
      "outputs": []
    }
  ]
}